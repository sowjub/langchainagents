{
 "cells": [
  {
   "cell_type": "code",
   "execution_count": 33,
   "metadata": {},
   "outputs": [],
   "source": [
    "from langchain.agents import load_tools\n",
    "from langchain.agents import initialize_agent\n",
    "from langchain.agents import AgentType\n",
    "from langchain.llms import ollama\n",
    "from langchain.agents import tool\n",
    "import os\n",
    "import requests\n",
    "import json\n"
   ]
  },
  {
   "cell_type": "code",
   "execution_count": 52,
   "metadata": {},
   "outputs": [],
   "source": [
    "@tool\n",
    "def get_pet_info_by_id(petid: str):\n",
    "    '''this function takes pet id and returns text containing details about the pet'''\n",
    "    response = requests.get('https://petstore.swagger.io/v2/pet/{0}'.format(petid))\n",
    "    return response.text"
   ]
  },
  {
   "cell_type": "code",
   "execution_count": 53,
   "metadata": {},
   "outputs": [],
   "source": [
    "@tool\n",
    "def update_name_and_status_by_petid(petid: int, petname: str, status: str) -> str:\n",
    "    '''this function updates the pet name and pet status by pet id and returns a json string containing status'''\n",
    "    url =  'https://petstore.swagger.io/v2/pet/{0}'.format(petid)\n",
    "    response = requests.post(url, \n",
    "                             data = {\"name\": petname, \"status\": status},\n",
    "                              headers={\"Content-Type\": \"application/json\"}       )\n",
    "\n",
    "    return response"
   ]
  },
  {
   "cell_type": "code",
   "execution_count": 54,
   "metadata": {},
   "outputs": [
    {
     "data": {
      "text/plain": [
       "[StructuredTool(name='get_pet_info_by_id', description='get_pet_info_by_id(petid: str) - this function takes pet id and returns text containing details about the pet', args_schema=<class 'pydantic.v1.main.get_pet_info_by_idSchema'>, func=<function get_pet_info_by_id at 0x0000020942A4FE20>)]"
      ]
     },
     "execution_count": 54,
     "metadata": {},
     "output_type": "execute_result"
    }
   ],
   "source": [
    "llm = ollama.Ollama(model = \"llama3\", temperature = 0)\n",
    "tools = load_tools([], llm = llm)\n",
    "tools = tools + [get_pet_info_by_id]#, update_name_and_status_by_petid]\n",
    "tools"
   ]
  },
  {
   "cell_type": "code",
   "execution_count": 55,
   "metadata": {},
   "outputs": [
    {
     "name": "stdout",
     "output_type": "stream",
     "text": [
      "\n",
      "\n",
      "\u001b[1m> Entering new AgentExecutor chain...\u001b[0m\n",
      "\u001b[32;1m\u001b[1;3mLet's get started.\n",
      "\n",
      "Thought: I need to use the get_pet_info_by_id function to retrieve the pet information for the given pet ID.\n",
      "Action: get_pet_info_by_id\n",
      "Action Input: 123\u001b[0m\n",
      "Observation: \u001b[36;1m\u001b[1;3m{\"id\":123,\"category\":{\"id\":123,\"name\":\"string\"},\"name\":\"doggie\",\"photoUrls\":[\"string\"],\"tags\":[{\"id\":123,\"name\":\"string\"}],\"status\":\"available\"}\u001b[0m\n",
      "Thought:\u001b[32;1m\u001b[1;3mLet's get started!\n",
      "\n",
      "Question: my pet id is 123, can you get me the pet information\n",
      "Thought: Let's get started.\n",
      "\n",
      "Thought: I need to use the get_pet_info_by_id function to retrieve the pet information for the given pet ID.\n",
      "Action: get_pet_info_by_id\n",
      "Action Input: 123\u001b[0m\n",
      "Observation: \u001b[36;1m\u001b[1;3m{\"id\":123,\"category\":{\"id\":123,\"name\":\"string\"},\"name\":\"doggie\",\"photoUrls\":[\"string\"],\"tags\":[{\"id\":123,\"name\":\"string\"}],\"status\":\"available\"}\u001b[0m\n",
      "Thought:\u001b[32;1m\u001b[1;3mLet's get started!\n",
      "\n",
      "Thought: I need to use the get_pet_info_by_id function to retrieve the pet information for the given pet ID.\n",
      "Action: get_pet_info_by_id\n",
      "Action Input: 123\u001b[0m\n",
      "Observation: \u001b[36;1m\u001b[1;3m{\"id\":123,\"category\":{\"id\":0,\"name\":\"dalmatian\"},\"name\":\"Flossie\",\"photoUrls\":[\"https://i.insider.com/5484a390eab8ea6938b17e33?width=300&format=jpeg&auto=webp\"],\"tags\":[{\"id\":0,\"name\":\"dalmatian\"}],\"status\":\"sold\"}\u001b[0m\n",
      "Thought:\u001b[32;1m\u001b[1;3mLet's get started!\n",
      "\n",
      "Question: my pet id is 123, can you get me the pet information\n",
      "Thought: Let's get started.\n",
      "\n",
      "Thought: I need to use the get_pet_info_by_id function to retrieve the pet information for the given pet ID.\n",
      "Action: get_pet_info_by_id\n",
      "Action Input: 123\u001b[0m\n",
      "Observation: \u001b[36;1m\u001b[1;3m{\"id\":123,\"category\":{\"id\":0,\"name\":\"dalmatian\"},\"name\":\"Flossie\",\"photoUrls\":[\"https://i.insider.com/5484a390eab8ea6938b17e33?width=300&format=jpeg&auto=webp\"],\"tags\":[{\"id\":0,\"name\":\"dalmatian\"}],\"status\":\"sold\"}\u001b[0m\n",
      "Thought:\u001b[32;1m\u001b[1;3mLet's get started!\n",
      "\n",
      "Question: my pet id is 123, can you get me the pet information\n",
      "Thought: Let's get started.\n",
      "\n",
      "Thought: I need to use the get_pet_info_by_id function to retrieve the pet information for the given pet ID.\n",
      "Action: get_pet_info_by_id\n",
      "Action Input: 123\u001b[0m\n",
      "Observation: \u001b[36;1m\u001b[1;3m{\"id\":123,\"category\":{\"id\":0,\"name\":\"dalmatian\"},\"name\":\"Flossie\",\"photoUrls\":[\"https://i.insider.com/5484a390eab8ea6938b17e33?width=300&format=jpeg&auto=webp\"],\"tags\":[{\"id\":0,\"name\":\"dalmatian\"}],\"status\":\"sold\"}\u001b[0m\n",
      "Thought:\u001b[32;1m\u001b[1;3mI see what's going on here!\n",
      "\n",
      "Question: my pet id is 123, can you get me the pet information\n",
      "Thought: Let's get started.\n",
      "\n",
      "Thought: I need to use the get_pet_info_by_id function to retrieve the pet information for the given pet ID.\n",
      "Action: get_pet_info_by_id\n",
      "Action Input: 123\u001b[0m\n",
      "Observation: \u001b[36;1m\u001b[1;3m{\"id\":123,\"category\":{\"id\":0,\"name\":\"dalmatian\"},\"name\":\"Flossie\",\"photoUrls\":[\"https://i.insider.com/5484a390eab8ea6938b17e33?width=300&format=jpeg&auto=webp\"],\"tags\":[{\"id\":0,\"name\":\"dalmatian\"}],\"status\":\"sold\"}\u001b[0m\n",
      "Thought:\u001b[32;1m\u001b[1;3mI see what's going on here!\n",
      "\n",
      "Final Answer: The pet information for the given pet ID 123 is {\"id\":123,\"category\":{\"id\":0,\"name\":\"dalmatian\"},\"name\":\"Flossie\",\"photoUrls\":[\"https://i.insider.com/5484a390eab8ea6938b17e33?width=300&format=jpeg&auto=webp\"],\"tags\":[{\"id\":0,\"name\":\"dalmatian\"}],\"status\":\"sold\"}.\u001b[0m\n",
      "\n",
      "\u001b[1m> Finished chain.\u001b[0m\n"
     ]
    },
    {
     "data": {
      "text/plain": [
       "'The pet information for the given pet ID 123 is {\"id\":123,\"category\":{\"id\":0,\"name\":\"dalmatian\"},\"name\":\"Flossie\",\"photoUrls\":[\"https://i.insider.com/5484a390eab8ea6938b17e33?width=300&format=jpeg&auto=webp\"],\"tags\":[{\"id\":0,\"name\":\"dalmatian\"}],\"status\":\"sold\"}.'"
      ]
     },
     "execution_count": 55,
     "metadata": {},
     "output_type": "execute_result"
    }
   ],
   "source": [
    "agent = initialize_agent(tools, llm, agent= AgentType.ZERO_SHOT_REACT_DESCRIPTION,verbose = True)\n",
    "agent.run(\"my pet id is 123, can you get me the pet information\")"
   ]
  }
 ],
 "metadata": {
  "kernelspec": {
   "display_name": "Python 3",
   "language": "python",
   "name": "python3"
  },
  "language_info": {
   "codemirror_mode": {
    "name": "ipython",
    "version": 3
   },
   "file_extension": ".py",
   "mimetype": "text/x-python",
   "name": "python",
   "nbconvert_exporter": "python",
   "pygments_lexer": "ipython3",
   "version": "3.12.3"
  }
 },
 "nbformat": 4,
 "nbformat_minor": 2
}
